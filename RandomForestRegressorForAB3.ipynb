{
 "cells": [
  {
   "cell_type": "markdown",
   "metadata": {},
   "source": [
    "# <center>用随机森林模型预测AB3类化合形成能</center>\n",
    "\n",
    "## 1. 数据提取\n",
    "\n",
    "#### 从Materials Project库中提取AB3化合物，其中B元素被限制为F、Cl、Br、I、O、S这几种元素"
   ]
  },
  {
   "cell_type": "code",
   "execution_count": 22,
   "metadata": {},
   "outputs": [
    {
     "data": {
      "text/html": [
       "<div>\n",
       "<style scoped>\n",
       "    .dataframe tbody tr th:only-of-type {\n",
       "        vertical-align: middle;\n",
       "    }\n",
       "\n",
       "    .dataframe tbody tr th {\n",
       "        vertical-align: top;\n",
       "    }\n",
       "\n",
       "    .dataframe thead th {\n",
       "        text-align: right;\n",
       "    }\n",
       "</style>\n",
       "<table border=\"1\" class=\"dataframe\">\n",
       "  <thead>\n",
       "    <tr style=\"text-align: right;\">\n",
       "      <th></th>\n",
       "      <th>composition</th>\n",
       "      <th>pretty_formula</th>\n",
       "      <th>structure</th>\n",
       "      <th>formation_energy_per_atom</th>\n",
       "      <th>formula</th>\n",
       "    </tr>\n",
       "    <tr>\n",
       "      <th>material_id</th>\n",
       "      <th></th>\n",
       "      <th></th>\n",
       "      <th></th>\n",
       "      <th></th>\n",
       "      <th></th>\n",
       "    </tr>\n",
       "  </thead>\n",
       "  <tbody>\n",
       "    <tr>\n",
       "      <th>mp-984358</th>\n",
       "      <td>None</td>\n",
       "      <td>Au3O</td>\n",
       "      <td>[[5.36992525 1.20568891 2.20134615] Au, [2.088...</td>\n",
       "      <td>0.189155</td>\n",
       "      <td>{'Au': 3.0, 'O': 1.0}</td>\n",
       "    </tr>\n",
       "    <tr>\n",
       "      <th>mp-942</th>\n",
       "      <td>None</td>\n",
       "      <td>AuF3</td>\n",
       "      <td>[[2.89648068 2.13894096 2.69806481] F, [2.0230...</td>\n",
       "      <td>-1.332780</td>\n",
       "      <td>{'F': 3.0, 'Au': 1.0}</td>\n",
       "    </tr>\n",
       "    <tr>\n",
       "      <th>mp-983458</th>\n",
       "      <td>None</td>\n",
       "      <td>Tl3Cl</td>\n",
       "      <td>[[-2.26566077e-04  1.99943127e+00  1.54093564e...</td>\n",
       "      <td>-0.479436</td>\n",
       "      <td>{'Tl': 3.0, 'Cl': 1.0}</td>\n",
       "    </tr>\n",
       "    <tr>\n",
       "      <th>mp-9371</th>\n",
       "      <td>None</td>\n",
       "      <td>ErF3</td>\n",
       "      <td>[[1.6531378  0.98950681 2.98949123] F, [4.0229...</td>\n",
       "      <td>-4.492670</td>\n",
       "      <td>{'F': 3.0, 'Er': 1.0}</td>\n",
       "    </tr>\n",
       "    <tr>\n",
       "      <th>mp-974386</th>\n",
       "      <td>None</td>\n",
       "      <td>Rh3F</td>\n",
       "      <td>[[-2.02634214e-16  2.05320805e+00  1.60987156e...</td>\n",
       "      <td>0.093761</td>\n",
       "      <td>{'Rh': 3.0, 'F': 1.0}</td>\n",
       "    </tr>\n",
       "  </tbody>\n",
       "</table>\n",
       "</div>"
      ],
      "text/plain": [
       "            composition pretty_formula  \\\n",
       "material_id                              \n",
       "mp-984358          None           Au3O   \n",
       "mp-942             None           AuF3   \n",
       "mp-983458          None          Tl3Cl   \n",
       "mp-9371            None           ErF3   \n",
       "mp-974386          None           Rh3F   \n",
       "\n",
       "                                                     structure  \\\n",
       "material_id                                                      \n",
       "mp-984358    [[5.36992525 1.20568891 2.20134615] Au, [2.088...   \n",
       "mp-942       [[2.89648068 2.13894096 2.69806481] F, [2.0230...   \n",
       "mp-983458    [[-2.26566077e-04  1.99943127e+00  1.54093564e...   \n",
       "mp-9371      [[1.6531378  0.98950681 2.98949123] F, [4.0229...   \n",
       "mp-974386    [[-2.02634214e-16  2.05320805e+00  1.60987156e...   \n",
       "\n",
       "             formation_energy_per_atom                 formula  \n",
       "material_id                                                     \n",
       "mp-984358                     0.189155   {'Au': 3.0, 'O': 1.0}  \n",
       "mp-942                       -1.332780   {'F': 3.0, 'Au': 1.0}  \n",
       "mp-983458                    -0.479436  {'Tl': 3.0, 'Cl': 1.0}  \n",
       "mp-9371                      -4.492670   {'F': 3.0, 'Er': 1.0}  \n",
       "mp-974386                     0.093761   {'Rh': 3.0, 'F': 1.0}  "
      ]
     },
     "execution_count": 22,
     "metadata": {},
     "output_type": "execute_result"
    }
   ],
   "source": [
    "from matminer.data_retrieval.retrieve_MP import MPDataRetrieval  \n",
    "import pandas as pd\n",
    "mpdr = MPDataRetrieval('FVdCyM5w7RKmqkQW') #mpdr = MPDataRetrieval('API_keys')，API_keys可以通过在 materialsproject.org 注册账号获取。\n",
    "df = mpdr.get_dataframe(criteria={'elements':{'$in':['F', 'Cl', 'Br','I','O','S']}\n",
    "                                  , 'formula_anonymous':\"AB3\"}      #mpquery方法参见https://github.com/materialsproject/mapidoc \n",
    "                        ,properties=[\"material_id\"\n",
    "                                     ,\"composition\"\n",
    "                                     ,\"pretty_formula\"     \n",
    "                                     ,\"structure\"\n",
    "                                     ,\"formation_energy_per_atom\"\n",
    "                                     ,\"formula\"])\n",
    "df.head()"
   ]
  },
  {
   "cell_type": "markdown",
   "metadata": {},
   "source": [
    "#### 这里我们只需要formation_energy_per_atom和pretty_formula两列"
   ]
  },
  {
   "cell_type": "code",
   "execution_count": 23,
   "metadata": {},
   "outputs": [
    {
     "data": {
      "text/html": [
       "<div>\n",
       "<style scoped>\n",
       "    .dataframe tbody tr th:only-of-type {\n",
       "        vertical-align: middle;\n",
       "    }\n",
       "\n",
       "    .dataframe tbody tr th {\n",
       "        vertical-align: top;\n",
       "    }\n",
       "\n",
       "    .dataframe thead th {\n",
       "        text-align: right;\n",
       "    }\n",
       "</style>\n",
       "<table border=\"1\" class=\"dataframe\">\n",
       "  <thead>\n",
       "    <tr style=\"text-align: right;\">\n",
       "      <th></th>\n",
       "      <th>formation_energy_per_atom</th>\n",
       "      <th>pretty_formula</th>\n",
       "    </tr>\n",
       "    <tr>\n",
       "      <th>material_id</th>\n",
       "      <th></th>\n",
       "      <th></th>\n",
       "    </tr>\n",
       "  </thead>\n",
       "  <tbody>\n",
       "    <tr>\n",
       "      <th>mp-984358</th>\n",
       "      <td>0.189155</td>\n",
       "      <td>Au3O</td>\n",
       "    </tr>\n",
       "    <tr>\n",
       "      <th>mp-942</th>\n",
       "      <td>-1.332780</td>\n",
       "      <td>AuF3</td>\n",
       "    </tr>\n",
       "    <tr>\n",
       "      <th>mp-983458</th>\n",
       "      <td>-0.479436</td>\n",
       "      <td>Tl3Cl</td>\n",
       "    </tr>\n",
       "    <tr>\n",
       "      <th>mp-9371</th>\n",
       "      <td>-4.492670</td>\n",
       "      <td>ErF3</td>\n",
       "    </tr>\n",
       "    <tr>\n",
       "      <th>mp-974386</th>\n",
       "      <td>0.093761</td>\n",
       "      <td>Rh3F</td>\n",
       "    </tr>\n",
       "  </tbody>\n",
       "</table>\n",
       "</div>"
      ],
      "text/plain": [
       "             formation_energy_per_atom pretty_formula\n",
       "material_id                                          \n",
       "mp-984358                     0.189155           Au3O\n",
       "mp-942                       -1.332780           AuF3\n",
       "mp-983458                    -0.479436          Tl3Cl\n",
       "mp-9371                      -4.492670           ErF3\n",
       "mp-974386                     0.093761           Rh3F"
      ]
     },
     "execution_count": 23,
     "metadata": {},
     "output_type": "execute_result"
    }
   ],
   "source": [
    "df= df[[\"formation_energy_per_atom\",\"pretty_formula\"]]\n",
    "df.head()"
   ]
  },
  {
   "cell_type": "markdown",
   "metadata": {},
   "source": [
    "#### 对列进行重新命名，让后面流程显得更加直观"
   ]
  },
  {
   "cell_type": "code",
   "execution_count": 24,
   "metadata": {},
   "outputs": [
    {
     "data": {
      "text/html": [
       "<div>\n",
       "<style scoped>\n",
       "    .dataframe tbody tr th:only-of-type {\n",
       "        vertical-align: middle;\n",
       "    }\n",
       "\n",
       "    .dataframe tbody tr th {\n",
       "        vertical-align: top;\n",
       "    }\n",
       "\n",
       "    .dataframe thead th {\n",
       "        text-align: right;\n",
       "    }\n",
       "</style>\n",
       "<table border=\"1\" class=\"dataframe\">\n",
       "  <thead>\n",
       "    <tr style=\"text-align: right;\">\n",
       "      <th></th>\n",
       "      <th>formation_energy</th>\n",
       "      <th>composition</th>\n",
       "    </tr>\n",
       "    <tr>\n",
       "      <th>material_id</th>\n",
       "      <th></th>\n",
       "      <th></th>\n",
       "    </tr>\n",
       "  </thead>\n",
       "  <tbody>\n",
       "    <tr>\n",
       "      <th>mp-984358</th>\n",
       "      <td>0.189155</td>\n",
       "      <td>Au3O</td>\n",
       "    </tr>\n",
       "    <tr>\n",
       "      <th>mp-942</th>\n",
       "      <td>-1.332780</td>\n",
       "      <td>AuF3</td>\n",
       "    </tr>\n",
       "    <tr>\n",
       "      <th>mp-983458</th>\n",
       "      <td>-0.479436</td>\n",
       "      <td>Tl3Cl</td>\n",
       "    </tr>\n",
       "    <tr>\n",
       "      <th>mp-9371</th>\n",
       "      <td>-4.492670</td>\n",
       "      <td>ErF3</td>\n",
       "    </tr>\n",
       "    <tr>\n",
       "      <th>mp-974386</th>\n",
       "      <td>0.093761</td>\n",
       "      <td>Rh3F</td>\n",
       "    </tr>\n",
       "  </tbody>\n",
       "</table>\n",
       "</div>"
      ],
      "text/plain": [
       "             formation_energy composition\n",
       "material_id                              \n",
       "mp-984358            0.189155        Au3O\n",
       "mp-942              -1.332780        AuF3\n",
       "mp-983458           -0.479436       Tl3Cl\n",
       "mp-9371             -4.492670        ErF3\n",
       "mp-974386            0.093761        Rh3F"
      ]
     },
     "execution_count": 24,
     "metadata": {},
     "output_type": "execute_result"
    }
   ],
   "source": [
    "df = df.rename(columns={'pretty_formula':'composition','formation_energy_per_atom':'formation_energy'})\n",
    "df.head()"
   ]
  },
  {
   "cell_type": "markdown",
   "metadata": {},
   "source": [
    "## 2. 生成训练集(数据预处理）\n",
    "\n",
    "#### 记下来我们仅仅保留每个化合物形成能最低的entry，数据库中提取的化合物的形成能可能不唯一，可能存在多个enrty"
   ]
  },
  {
   "cell_type": "markdown",
   "metadata": {},
   "source": [
    "#### matminer可以通过化学组分来得到输入数据进行特征化处理\n",
    "\n",
    "#### 第一步需要将表示化学组分的composition列转换成pymatgen Composition object"
   ]
  },
  {
   "cell_type": "code",
   "execution_count": 4,
   "metadata": {},
   "outputs": [
    {
     "data": {
      "application/vnd.jupyter.widget-view+json": {
       "model_id": "964ecbb2b25c4ece88f478bb12d2d263",
       "version_major": 2,
       "version_minor": 0
      },
      "text/plain": [
       "HBox(children=(IntProgress(value=0, description='StrToComposition', max=690, style=ProgressStyle(description_w…"
      ]
     },
     "metadata": {},
     "output_type": "display_data"
    },
    {
     "name": "stdout",
     "output_type": "stream",
     "text": [
      "\n"
     ]
    },
    {
     "data": {
      "text/html": [
       "<div>\n",
       "<style scoped>\n",
       "    .dataframe tbody tr th:only-of-type {\n",
       "        vertical-align: middle;\n",
       "    }\n",
       "\n",
       "    .dataframe tbody tr th {\n",
       "        vertical-align: top;\n",
       "    }\n",
       "\n",
       "    .dataframe thead th {\n",
       "        text-align: right;\n",
       "    }\n",
       "</style>\n",
       "<table border=\"1\" class=\"dataframe\">\n",
       "  <thead>\n",
       "    <tr style=\"text-align: right;\">\n",
       "      <th></th>\n",
       "      <th>formation_energy</th>\n",
       "      <th>composition</th>\n",
       "      <th>composition_obj</th>\n",
       "    </tr>\n",
       "    <tr>\n",
       "      <th>material_id</th>\n",
       "      <th></th>\n",
       "      <th></th>\n",
       "      <th></th>\n",
       "    </tr>\n",
       "  </thead>\n",
       "  <tbody>\n",
       "    <tr>\n",
       "      <th>mp-984358</th>\n",
       "      <td>0.189155</td>\n",
       "      <td>Au3O</td>\n",
       "      <td>(Au, O)</td>\n",
       "    </tr>\n",
       "    <tr>\n",
       "      <th>mp-942</th>\n",
       "      <td>-1.332780</td>\n",
       "      <td>AuF3</td>\n",
       "      <td>(Au, F)</td>\n",
       "    </tr>\n",
       "    <tr>\n",
       "      <th>mp-983458</th>\n",
       "      <td>-0.479436</td>\n",
       "      <td>Tl3Cl</td>\n",
       "      <td>(Tl, Cl)</td>\n",
       "    </tr>\n",
       "    <tr>\n",
       "      <th>mp-9371</th>\n",
       "      <td>-4.492670</td>\n",
       "      <td>ErF3</td>\n",
       "      <td>(Er, F)</td>\n",
       "    </tr>\n",
       "    <tr>\n",
       "      <th>mp-974386</th>\n",
       "      <td>0.093761</td>\n",
       "      <td>Rh3F</td>\n",
       "      <td>(Rh, F)</td>\n",
       "    </tr>\n",
       "  </tbody>\n",
       "</table>\n",
       "</div>"
      ],
      "text/plain": [
       "             formation_energy composition composition_obj\n",
       "material_id                                              \n",
       "mp-984358            0.189155        Au3O         (Au, O)\n",
       "mp-942              -1.332780        AuF3         (Au, F)\n",
       "mp-983458           -0.479436       Tl3Cl        (Tl, Cl)\n",
       "mp-9371             -4.492670        ErF3         (Er, F)\n",
       "mp-974386            0.093761        Rh3F         (Rh, F)"
      ]
     },
     "execution_count": 4,
     "metadata": {},
     "output_type": "execute_result"
    }
   ],
   "source": [
    "from matminer.featurizers.conversions import StrToComposition\n",
    "df = StrToComposition(target_col_id='composition_obj').featurize_dataframe(df, 'composition')\n",
    "df.head()"
   ]
  },
  {
   "cell_type": "markdown",
   "metadata": {},
   "source": [
    "#### 移除不存在形成能的entry"
   ]
  },
  {
   "cell_type": "code",
   "execution_count": 5,
   "metadata": {},
   "outputs": [
    {
     "name": "stdout",
     "output_type": "stream",
     "text": [
      "Removed 0/690 entries\n"
     ]
    }
   ],
   "source": [
    "#for k in ['formation_energy_per_atom']: \n",
    "#    df[k] = pd.to_numeric(df[k])\n",
    "original_count = len(df)\n",
    "df = df[~ df['formation_energy'].isnull()]\n",
    "print('Removed %d/%d entries'%(original_count - len(df), original_count))  #会发现没有减少entry"
   ]
  },
  {
   "cell_type": "markdown",
   "metadata": {},
   "source": [
    "#### 仅仅保留每个化合物的基态entry，使得最终每个化合物仅仅有一个entry"
   ]
  },
  {
   "cell_type": "code",
   "execution_count": 6,
   "metadata": {},
   "outputs": [
    {
     "name": "stdout",
     "output_type": "stream",
     "text": [
      "Removed 289/690 entries\n",
      "Wall time: 89.6 ms\n"
     ]
    }
   ],
   "source": [
    "%%time\n",
    "original_count = len(df)\n",
    "df['composition'] = df['composition_obj'].apply(lambda x: x.reduced_formula)\n",
    "df.sort_values('formation_energy', ascending=True, inplace=True)\n",
    "df.drop_duplicates('composition', keep='first', inplace=True)\n",
    "print('Removed %d/%d entries'%(original_count - len(df), original_count))"
   ]
  },
  {
   "cell_type": "markdown",
   "metadata": {},
   "source": [
    "#### 移除异常值"
   ]
  },
  {
   "cell_type": "code",
   "execution_count": 7,
   "metadata": {},
   "outputs": [
    {
     "name": "stdout",
     "output_type": "stream",
     "text": [
      "Removed 0/401 entries\n"
     ]
    }
   ],
   "source": [
    "import numpy as np\n",
    "original_count = len(df)\n",
    "df = df[np.logical_and(df['formation_energy'] >= -20, df['formation_energy'] <= 5)]\n",
    "print('Removed %d/%d entries'%(original_count - len(df), original_count))"
   ]
  },
  {
   "cell_type": "markdown",
   "metadata": {},
   "source": [
    "## 3. 搭建随机森林模型"
   ]
  },
  {
   "cell_type": "markdown",
   "metadata": {},
   "source": [
    "#### 3.1 计算表示（representation）"
   ]
  },
  {
   "cell_type": "markdown",
   "metadata": {},
   "source": [
    "#### 搭建模型的第一步是将原始(raw)的材料数据转换成数值属性(attributes)列表,才能别模型使用"
   ]
  },
  {
   "cell_type": "code",
   "execution_count": 8,
   "metadata": {},
   "outputs": [],
   "source": [
    "from matminer.featurizers.base import MultipleFeaturizer\n",
    "from matminer.featurizers import composition as cf\n",
    "feature_calculators = MultipleFeaturizer([cf.Stoichiometry(), cf.ElementProperty.from_preset(\"magpie\"),\n",
    "                                          cf.ValenceOrbital(props=['avg']), cf.IonProperty(fast=True)])"
   ]
  },
  {
   "cell_type": "markdown",
   "metadata": {},
   "source": [
    "#### 计算特征(feature)"
   ]
  },
  {
   "cell_type": "code",
   "execution_count": 9,
   "metadata": {},
   "outputs": [
    {
     "data": {
      "application/vnd.jupyter.widget-view+json": {
       "model_id": "367d460fd6874824a9c543cb2b5d94c9",
       "version_major": 2,
       "version_minor": 0
      },
      "text/plain": [
       "HBox(children=(IntProgress(value=0, description='MultipleFeaturizer', max=401, style=ProgressStyle(description…"
      ]
     },
     "metadata": {},
     "output_type": "display_data"
    },
    {
     "name": "stdout",
     "output_type": "stream",
     "text": [
      "\n",
      "Generated 145 features\n",
      "Training set size: 401x145\n"
     ]
    }
   ],
   "source": [
    "feature_labels = feature_calculators.feature_labels()\n",
    "df = feature_calculators.featurize_dataframe(df, col_id='composition_obj')\n",
    "print('Generated %d features'%len(feature_labels))\n",
    "print('Training set size:', 'x'.join([str(x) for x in df[feature_labels].shape]))"
   ]
  },
  {
   "cell_type": "markdown",
   "metadata": {},
   "source": [
    "#### 移除含有NaN和infinite的特征"
   ]
  },
  {
   "cell_type": "code",
   "execution_count": 10,
   "metadata": {},
   "outputs": [
    {
     "name": "stdout",
     "output_type": "stream",
     "text": [
      "Removed 0/401 entries\n"
     ]
    }
   ],
   "source": [
    "original_count = len(df)\n",
    "df = df[~ df[feature_labels].isnull().any(axis=1)]\n",
    "print('Removed %d/%d entries'%(original_count - len(df), original_count))"
   ]
  },
  {
   "cell_type": "markdown",
   "metadata": {},
   "source": [
    "#### 3.2 调整模型超参数"
   ]
  },
  {
   "cell_type": "code",
   "execution_count": 11,
   "metadata": {},
   "outputs": [],
   "source": [
    "from sklearn import metrics\n",
    "from sklearn.ensemble import RandomForestRegressor\n",
    "from sklearn.model_selection import cross_val_score, cross_val_predict, GridSearchCV, ShuffleSplit, KFold\n",
    "model = GridSearchCV(RandomForestRegressor(n_estimators=100,random_state=0 ),#决策树的个数为10\n",
    "                     param_grid=dict(max_features=range(8,15)),\n",
    "                     scoring='neg_mean_squared_error',cv=ShuffleSplit(n_splits=1, test_size=0.2))\n",
    "    #test_size=0.5表示用多少数据做为模型的训练集       \n",
    "    #用GridSearchCV进行自动调参，只要把参数输进去，就能给出最优化的结果和参数，该方法适用于小数据集合"
   ]
  },
  {
   "cell_type": "markdown",
   "metadata": {},
   "source": [
    "#### 进行训练"
   ]
  },
  {
   "cell_type": "code",
   "execution_count": 12,
   "metadata": {},
   "outputs": [
    {
     "data": {
      "text/plain": [
       "GridSearchCV(cv=ShuffleSplit(n_splits=1, random_state=None, test_size=0.2, train_size=None),\n",
       "       error_score='raise-deprecating',\n",
       "       estimator=RandomForestRegressor(bootstrap=True, criterion='mse', max_depth=None,\n",
       "           max_features='auto', max_leaf_nodes=None,\n",
       "           min_impurity_decrease=0.0, min_impurity_split=None,\n",
       "           min_samples_leaf=1, min_samples_split=2,\n",
       "           min_weight_fraction_leaf=0.0, n_estimators=100, n_jobs=None,\n",
       "           oob_score=False, random_state=0, verbose=0, warm_start=False),\n",
       "       fit_params=None, iid='warn', n_jobs=None,\n",
       "       param_grid={'max_features': range(8, 15)}, pre_dispatch='2*n_jobs',\n",
       "       refit=True, return_train_score='warn',\n",
       "       scoring='neg_mean_squared_error', verbose=0)"
      ]
     },
     "execution_count": 12,
     "metadata": {},
     "output_type": "execute_result"
    }
   ],
   "source": [
    "model.fit(df[feature_labels], df['formation_energy'])"
   ]
  },
  {
   "cell_type": "markdown",
   "metadata": {},
   "source": [
    "#### 得到调参结果"
   ]
  },
  {
   "cell_type": "code",
   "execution_count": 13,
   "metadata": {},
   "outputs": [
    {
     "data": {
      "text/plain": [
       "-0.18295057854305657"
      ]
     },
     "execution_count": 13,
     "metadata": {},
     "output_type": "execute_result"
    }
   ],
   "source": [
    "model.best_score_"
   ]
  },
  {
   "cell_type": "code",
   "execution_count": 21,
   "metadata": {},
   "outputs": [
    {
     "ename": "AttributeError",
     "evalue": "'RandomForestRegressor' object has no attribute 'cv_results_'",
     "output_type": "error",
     "traceback": [
      "\u001b[1;31m---------------------------------------------------------------------------\u001b[0m",
      "\u001b[1;31mAttributeError\u001b[0m                            Traceback (most recent call last)",
      "\u001b[1;32m<ipython-input-21-280495858ab7>\u001b[0m in \u001b[0;36m<module>\u001b[1;34m\u001b[0m\n\u001b[0;32m      4\u001b[0m \u001b[1;33m\u001b[0m\u001b[0m\n\u001b[0;32m      5\u001b[0m \u001b[1;31m# Plot the score as a function of alpha\u001b[0m\u001b[1;33m\u001b[0m\u001b[1;33m\u001b[0m\u001b[1;33m\u001b[0m\u001b[0m\n\u001b[1;32m----> 6\u001b[1;33m ax.scatter(model.cv_results_['param_max_features'].data,\n\u001b[0m\u001b[0;32m      7\u001b[0m           np.sqrt(-1 * model.cv_results_['mean_test_score']))\n\u001b[0;32m      8\u001b[0m \u001b[0max\u001b[0m\u001b[1;33m.\u001b[0m\u001b[0mscatter\u001b[0m\u001b[1;33m(\u001b[0m\u001b[1;33m[\u001b[0m\u001b[0mmodel\u001b[0m\u001b[1;33m.\u001b[0m\u001b[0mbest_params_\u001b[0m\u001b[1;33m[\u001b[0m\u001b[1;34m'max_features'\u001b[0m\u001b[1;33m]\u001b[0m\u001b[1;33m]\u001b[0m\u001b[1;33m,\u001b[0m \u001b[0mnp\u001b[0m\u001b[1;33m.\u001b[0m\u001b[0msqrt\u001b[0m\u001b[1;33m(\u001b[0m\u001b[1;33m[\u001b[0m\u001b[1;33m-\u001b[0m\u001b[1;36m1\u001b[0m\u001b[1;33m*\u001b[0m\u001b[0mmodel\u001b[0m\u001b[1;33m.\u001b[0m\u001b[0mbest_score_\u001b[0m\u001b[1;33m]\u001b[0m\u001b[1;33m)\u001b[0m\u001b[1;33m,\u001b[0m \u001b[0mmarker\u001b[0m\u001b[1;33m=\u001b[0m\u001b[1;34m'o'\u001b[0m\u001b[1;33m,\u001b[0m \u001b[0mcolor\u001b[0m\u001b[1;33m=\u001b[0m\u001b[1;34m'r'\u001b[0m\u001b[1;33m,\u001b[0m \u001b[0ms\u001b[0m\u001b[1;33m=\u001b[0m\u001b[1;36m40\u001b[0m\u001b[1;33m)\u001b[0m\u001b[1;33m\u001b[0m\u001b[1;33m\u001b[0m\u001b[0m\n",
      "\u001b[1;31mAttributeError\u001b[0m: 'RandomForestRegressor' object has no attribute 'cv_results_'"
     ]
    },
    {
     "data": {
      "image/png": "[encoded data removed]",
      "text/plain": [
       "<Figure size 432x288 with 1 Axes>"
      ]
     },
     "metadata": {
      "needs_background": "light"
     },
     "output_type": "display_data"
    }
   ],
   "source": [
    "from matplotlib import pyplot as plt\n",
    "import numpy as np\n",
    "fig, ax = plt.subplots()\n",
    "\n",
    "# Plot the score as a function of alpha\n",
    "ax.scatter(model.cv_results_['param_max_features'].data,\n",
    "          np.sqrt(-1 * model.cv_results_['mean_test_score']))\n",
    "ax.scatter([model.best_params_['max_features']], np.sqrt([-1*model.best_score_]), marker='o', color='r', s=40)\n",
    "ax.set_xlabel('Max. Features')\n",
    "ax.set_ylabel('RMSE (eV/atom)')"
   ]
  },
  {
   "cell_type": "markdown",
   "metadata": {},
   "source": [
    "#### 保存最佳模型"
   ]
  },
  {
   "cell_type": "code",
   "execution_count": 15,
   "metadata": {},
   "outputs": [],
   "source": [
    "model = model.best_estimator_"
   ]
  },
  {
   "cell_type": "markdown",
   "metadata": {},
   "source": [
    "## 3.3交叉验证"
   ]
  },
  {
   "cell_type": "markdown",
   "metadata": {},
   "source": [
    "#### 通过十折交叉验证来量化得出模型的表现"
   ]
  },
  {
   "cell_type": "code",
   "execution_count": 16,
   "metadata": {},
   "outputs": [],
   "source": [
    "cv_prediction = cross_val_predict(model, df[feature_labels], df['formation_energy'], cv=KFold(10, shuffle=True))"
   ]
  },
  {
   "cell_type": "markdown",
   "metadata": {},
   "source": [
    "#### 计算汇总数据"
   ]
  },
  {
   "cell_type": "code",
   "execution_count": 17,
   "metadata": {},
   "outputs": [
    {
     "name": "stdout",
     "output_type": "stream",
     "text": [
      "r2_score 0.8875149350353158\n",
      "mean_absolute_error 0.2556670244403457\n",
      "mean_squared_error 0.1771888802515107\n"
     ]
    }
   ],
   "source": [
    "for scorer in ['r2_score', 'mean_absolute_error', 'mean_squared_error']:\n",
    "    score = getattr(metrics,scorer)(df['formation_energy'], cv_prediction)\n",
    "    print(scorer, score)"
   ]
  },
  {
   "cell_type": "code",
   "execution_count": 18,
   "metadata": {},
   "outputs": [
    {
     "data": {
      "text/plain": [
       "RandomForestRegressor(bootstrap=True, criterion='mse', max_depth=None,\n",
       "           max_features=12, max_leaf_nodes=None, min_impurity_decrease=0.0,\n",
       "           min_impurity_split=None, min_samples_leaf=1,\n",
       "           min_samples_split=2, min_weight_fraction_leaf=0.0,\n",
       "           n_estimators=100, n_jobs=None, oob_score=False, random_state=0,\n",
       "           verbose=0, warm_start=False)"
      ]
     },
     "execution_count": 18,
     "metadata": {},
     "output_type": "execute_result"
    }
   ],
   "source": [
    "model"
   ]
  },
  {
   "cell_type": "code",
   "execution_count": 19,
   "metadata": {},
   "outputs": [
    {
     "data": {
      "image/png": "[encoded data removed]",
      "text/plain": [
       "<Figure size 216x216 with 1 Axes>"
      ]
     },
     "metadata": {
      "needs_background": "light"
     },
     "output_type": "display_data"
    }
   ],
   "source": [
    "from matplotlib.colors import LogNorm\n",
    "fig, ax = plt.subplots()\n",
    "\n",
    "ax.hist2d(pd.to_numeric(df['formation_energy']), cv_prediction, norm=LogNorm(), bins=64, cmap='Blues', alpha=0.9)\n",
    "\n",
    "ax.set_xlim(ax.get_ylim())\n",
    "ax.set_ylim(ax.get_xlim())\n",
    "\n",
    "mae = metrics.mean_absolute_error(df['formation_energy'], cv_prediction)\n",
    "r2 = metrics.r2_score(df['formation_energy'], cv_prediction)\n",
    "ax.text(0.5, 0.1, 'MAE: {:.2f} eV/atom\\n$R^2$:  {:.2f}'.format(mae, r2),\n",
    "        transform=ax.transAxes,\n",
    "       bbox={'facecolor': 'w', 'edgecolor': 'k'})\n",
    "\n",
    "ax.plot(ax.get_xlim(), ax.get_xlim(), 'k--')\n",
    "\n",
    "ax.set_xlabel('DFT $\\Delta H_f$ (eV/atom)')\n",
    "ax.set_ylabel('ML $\\Delta H_f$ (eV/atom)')\n",
    "\n",
    "fig.set_size_inches(3, 3)\n",
    "fig.tight_layout()\n",
    "fig.savefig('oqmd_cv.png', dpi=320)"
   ]
  },
  {
   "cell_type": "markdown",
   "metadata": {},
   "source": [
    "#### 特征重要程度比较"
   ]
  },
  {
   "cell_type": "code",
   "execution_count": 20,
   "metadata": {},
   "outputs": [
    {
     "data": {
      "text/plain": [
       "array([0.00000000e+00, 0.00000000e+00, 0.00000000e+00, 0.00000000e+00,\n",
       "       0.00000000e+00, 0.00000000e+00, 1.93730003e-03, 3.70384280e-03,\n",
       "       2.48542418e-03, 4.52772363e-03, 2.83426018e-03, 1.63973336e-02,\n",
       "       1.19334392e-02, 2.06727233e-03, 5.94798179e-03, 9.31369315e-03,\n",
       "       6.40088023e-03, 2.15434440e-02, 1.95413997e-03, 2.78457127e-03,\n",
       "       4.29844356e-03, 4.31299547e-03, 3.25009575e-03, 1.19244908e-02,\n",
       "       5.19311494e-03, 5.74531256e-03, 9.48429879e-03, 1.34147560e-02,\n",
       "       7.47227915e-03, 4.28622206e-02, 1.07335558e-02, 4.82177443e-04,\n",
       "       8.86548161e-03, 2.28382766e-02, 8.78038543e-03, 2.76914435e-02,\n",
       "       3.12741412e-04, 2.01907407e-03, 1.74027561e-03, 2.68072527e-03,\n",
       "       3.04380640e-03, 1.50497268e-02, 7.76932135e-03, 9.01432504e-03,\n",
       "       2.05216178e-02, 5.77525580e-03, 3.04205020e-02, 5.14337800e-02,\n",
       "       1.72465379e-02, 1.34546848e-02, 3.13067100e-02, 3.30519341e-02,\n",
       "       4.73359002e-02, 4.39138186e-02, 5.91213571e-04, 0.00000000e+00,\n",
       "       1.81834032e-03, 6.96381047e-04, 1.31399557e-03, 4.32411192e-05,\n",
       "       1.01587923e-03, 2.69198433e-04, 1.53549431e-03, 1.08123731e-02,\n",
       "       5.28865823e-03, 1.94897485e-02, 5.29560417e-04, 5.34445696e-03,\n",
       "       1.17696308e-03, 5.45596131e-03, 2.31799061e-03, 4.11937898e-03,\n",
       "       0.00000000e+00, 3.73940926e-04, 3.89401014e-04, 1.57027277e-04,\n",
       "       3.24108838e-04, 1.31830983e-05, 2.15296738e-03, 1.64028241e-03,\n",
       "       1.38321577e-03, 3.23549666e-03, 1.35368938e-03, 6.11218826e-04,\n",
       "       0.00000000e+00, 4.44970083e-04, 7.00667246e-04, 8.95930790e-04,\n",
       "       1.32564879e-03, 1.07364141e-04, 6.21275362e-04, 1.14239495e-03,\n",
       "       1.74144463e-03, 7.05695073e-03, 1.35819472e-03, 7.75741282e-04,\n",
       "       0.00000000e+00, 8.57684236e-04, 2.11359261e-03, 6.43950037e-04,\n",
       "       1.16876659e-03, 5.70451548e-04, 0.00000000e+00, 1.65847605e-03,\n",
       "       9.22130580e-04, 2.15086170e-03, 1.32990671e-03, 1.08352555e-05,\n",
       "       1.16889163e-03, 5.47965885e-03, 7.71244812e-03, 5.46339711e-03,\n",
       "       5.08490117e-03, 4.16180336e-03, 1.79296359e-03, 3.30517636e-03,\n",
       "       3.49187282e-03, 4.68106590e-03, 3.69415492e-03, 6.33153522e-03,\n",
       "       7.98011929e-04, 4.31477454e-03, 4.35447312e-03, 7.50316220e-03,\n",
       "       3.06964107e-03, 9.57999912e-03, 0.00000000e+00, 2.69406314e-04,\n",
       "       2.92692593e-04, 3.95098595e-04, 9.48067007e-05, 1.23470900e-04,\n",
       "       3.28474638e-04, 1.11754323e-03, 2.89026654e-03, 1.28721804e-02,\n",
       "       3.02484875e-03, 1.68674697e-02, 1.20166412e-03, 1.24057721e-02,\n",
       "       1.83461994e-02, 1.04647749e-03, 6.35110168e-03, 5.75133355e-02,\n",
       "       6.45492842e-02])"
      ]
     },
     "execution_count": 20,
     "metadata": {},
     "output_type": "execute_result"
    }
   ],
   "source": [
    "feature_importance = model.feature_importances_\n",
    "feature_importance"
   ]
  }
 ],
 "metadata": {
  "kernelspec": {
   "display_name": "Python 3",
   "language": "python",
   "name": "python3"
  },
  "language_info": {
   "codemirror_mode": {
    "name": "ipython",
    "version": 3
   },
   "file_extension": ".py",
   "mimetype": "text/x-python",
   "name": "python",
   "nbconvert_exporter": "python",
   "pygments_lexer": "ipython3",
   "version": "3.6.7"
  }
 },
 "nbformat": 4,
 "nbformat_minor": 2
}
