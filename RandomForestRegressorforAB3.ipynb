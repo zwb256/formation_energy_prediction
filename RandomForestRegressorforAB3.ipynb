{
 "cells": [
  {
   "cell_type": "markdown",
   "metadata": {},
   "source": [
    "# <center>用随机森林模型预测AB3类化合形成能</center>\n",
    "\n",
    "## 1. 数据提取\n",
    "\n",
    "#### 从Materials Project库中提取AB3化合物，其中B元素被限制为F、Cl、Br、I、O、S这几种元素"
   ]
  },
  {
   "cell_type": "code",
   "execution_count": 62,
   "metadata": {},
   "outputs": [
    {
     "name": "stderr",
     "output_type": "stream",
     "text": [
      "E:\\anaconda\\Anaconda\\lib\\site-packages\\pymatgen\\core\\periodic_table.py:429: UserWarning:\n",
      "\n",
      "No electronegativity for He. Setting to NaN. This has no physical meaning, and is mainly done to avoid errors caused by the code expecting a float.\n",
      "\n",
      "E:\\anaconda\\Anaconda\\lib\\site-packages\\pymatgen\\core\\periodic_table.py:429: UserWarning:\n",
      "\n",
      "No electronegativity for Ne. Setting to NaN. This has no physical meaning, and is mainly done to avoid errors caused by the code expecting a float.\n",
      "\n",
      "E:\\anaconda\\Anaconda\\lib\\site-packages\\pymatgen\\core\\periodic_table.py:429: UserWarning:\n",
      "\n",
      "No electronegativity for Ar. Setting to NaN. This has no physical meaning, and is mainly done to avoid errors caused by the code expecting a float.\n",
      "\n"
     ]
    },
    {
     "data": {
      "text/html": [
       "<div>\n",
       "<style scoped>\n",
       "    .dataframe tbody tr th:only-of-type {\n",
       "        vertical-align: middle;\n",
       "    }\n",
       "\n",
       "    .dataframe tbody tr th {\n",
       "        vertical-align: top;\n",
       "    }\n",
       "\n",
       "    .dataframe thead th {\n",
       "        text-align: right;\n",
       "    }\n",
       "</style>\n",
       "<table border=\"1\" class=\"dataframe\">\n",
       "  <thead>\n",
       "    <tr style=\"text-align: right;\">\n",
       "      <th></th>\n",
       "      <th>pretty_formula</th>\n",
       "      <th>structure</th>\n",
       "      <th>formation_energy_per_atom</th>\n",
       "      <th>space_group</th>\n",
       "    </tr>\n",
       "    <tr>\n",
       "      <th>material_id</th>\n",
       "      <th></th>\n",
       "      <th></th>\n",
       "      <th></th>\n",
       "      <th></th>\n",
       "    </tr>\n",
       "  </thead>\n",
       "  <tbody>\n",
       "    <tr>\n",
       "      <th>mp-861867</th>\n",
       "      <td>AcI3</td>\n",
       "      <td>[[-4.18086853e-06  6.69441981e+00  3.29269827e...</td>\n",
       "      <td>-1.518260</td>\n",
       "      <td>None</td>\n",
       "    </tr>\n",
       "    <tr>\n",
       "      <th>mp-30930</th>\n",
       "      <td>AlI3</td>\n",
       "      <td>[[0.01919453 7.87930235 9.71751862] Al, [3.389...</td>\n",
       "      <td>-0.672347</td>\n",
       "      <td>None</td>\n",
       "    </tr>\n",
       "    <tr>\n",
       "      <th>mp-23218</th>\n",
       "      <td>AsI3</td>\n",
       "      <td>[[1.69059523 1.12964843 3.48983325] As, [ 7.68...</td>\n",
       "      <td>-0.199379</td>\n",
       "      <td>None</td>\n",
       "    </tr>\n",
       "    <tr>\n",
       "      <th>mp-23189</th>\n",
       "      <td>BI3</td>\n",
       "      <td>[[-7.23678818e-07  4.27379473e+00  2.20867776e...</td>\n",
       "      <td>-0.063909</td>\n",
       "      <td>None</td>\n",
       "    </tr>\n",
       "    <tr>\n",
       "      <th>mp-1008490</th>\n",
       "      <td>BiI3</td>\n",
       "      <td>[[0. 0. 0.] Bi, [-4.06613046 -4.06613046 -4.06...</td>\n",
       "      <td>0.115729</td>\n",
       "      <td>None</td>\n",
       "    </tr>\n",
       "  </tbody>\n",
       "</table>\n",
       "</div>"
      ],
      "text/plain": [
       "            pretty_formula                                          structure  \\\n",
       "material_id                                                                     \n",
       "mp-861867             AcI3  [[-4.18086853e-06  6.69441981e+00  3.29269827e...   \n",
       "mp-30930              AlI3  [[0.01919453 7.87930235 9.71751862] Al, [3.389...   \n",
       "mp-23218              AsI3  [[1.69059523 1.12964843 3.48983325] As, [ 7.68...   \n",
       "mp-23189               BI3  [[-7.23678818e-07  4.27379473e+00  2.20867776e...   \n",
       "mp-1008490            BiI3  [[0. 0. 0.] Bi, [-4.06613046 -4.06613046 -4.06...   \n",
       "\n",
       "             formation_energy_per_atom space_group  \n",
       "material_id                                         \n",
       "mp-861867                    -1.518260        None  \n",
       "mp-30930                     -0.672347        None  \n",
       "mp-23218                     -0.199379        None  \n",
       "mp-23189                     -0.063909        None  \n",
       "mp-1008490                    0.115729        None  "
      ]
     },
     "execution_count": 62,
     "metadata": {},
     "output_type": "execute_result"
    }
   ],
   "source": [
    "from matminer.data_retrieval.retrieve_MP import MPDataRetrieval  \n",
    "import pandas as pd\n",
    "mpdr = MPDataRetrieval('FVdCyM5w7RKmqkQW') #mpdr = MPDataRetrieval('API_keys')，API_keys可以通过在 materialsproject.org 注册账号获取。\n",
    "df1 = mpdr.get_dataframe(criteria=\"*I3\",\n",
    "                       properties=[\"material_id\",\"pretty_formula\",\"structure\",\"formation_energy_per_atom\",\n",
    "                                  \"space_group\"])\n",
    "df2 = mpdr.get_dataframe(criteria=\"*Cl3\",\n",
    "                       properties=[\"material_id\",\"pretty_formula\",\"structure\",\"formation_energy_per_atom\",\n",
    "                                   \"space_group\"])\n",
    "df3 = mpdr.get_dataframe(criteria=\"*Br3\",\n",
    "                       properties=[\"material_id\",\"pretty_formula\",\"structure\",\"formation_energy_per_atom\",\n",
    "                                   \"space_group\"])\n",
    "df4 = mpdr.get_dataframe(criteria=\"*F3\",\n",
    "                       properties=[\"material_id\",\"pretty_formula\",\"structure\",\"formation_energy_per_atom\",\n",
    "                                   \"space_group\"])\n",
    "df5 = mpdr.get_dataframe(criteria=\"*O3\",\n",
    "                       properties=[\"material_id\",\"pretty_formula\",\"structure\",\"formation_energy_per_atom\",\n",
    "                                   \"space_group\"])\n",
    "df =pd.concat([df1,df2,df3,df4,df5])\n",
    "df.head()"
   ]
  },
  {
   "cell_type": "markdown",
   "metadata": {},
   "source": [
    "#### 这里我们只需要formation_energy_per_atom和pretty_formula两列"
   ]
  },
  {
   "cell_type": "code",
   "execution_count": 63,
   "metadata": {},
   "outputs": [
    {
     "data": {
      "text/html": [
       "<div>\n",
       "<style scoped>\n",
       "    .dataframe tbody tr th:only-of-type {\n",
       "        vertical-align: middle;\n",
       "    }\n",
       "\n",
       "    .dataframe tbody tr th {\n",
       "        vertical-align: top;\n",
       "    }\n",
       "\n",
       "    .dataframe thead th {\n",
       "        text-align: right;\n",
       "    }\n",
       "</style>\n",
       "<table border=\"1\" class=\"dataframe\">\n",
       "  <thead>\n",
       "    <tr style=\"text-align: right;\">\n",
       "      <th></th>\n",
       "      <th>formation_energy_per_atom</th>\n",
       "      <th>pretty_formula</th>\n",
       "    </tr>\n",
       "    <tr>\n",
       "      <th>material_id</th>\n",
       "      <th></th>\n",
       "      <th></th>\n",
       "    </tr>\n",
       "  </thead>\n",
       "  <tbody>\n",
       "    <tr>\n",
       "      <th>mp-861867</th>\n",
       "      <td>-1.518260</td>\n",
       "      <td>AcI3</td>\n",
       "    </tr>\n",
       "    <tr>\n",
       "      <th>mp-30930</th>\n",
       "      <td>-0.672347</td>\n",
       "      <td>AlI3</td>\n",
       "    </tr>\n",
       "    <tr>\n",
       "      <th>mp-23218</th>\n",
       "      <td>-0.199379</td>\n",
       "      <td>AsI3</td>\n",
       "    </tr>\n",
       "    <tr>\n",
       "      <th>mp-23189</th>\n",
       "      <td>-0.063909</td>\n",
       "      <td>BI3</td>\n",
       "    </tr>\n",
       "    <tr>\n",
       "      <th>mp-1008490</th>\n",
       "      <td>0.115729</td>\n",
       "      <td>BiI3</td>\n",
       "    </tr>\n",
       "  </tbody>\n",
       "</table>\n",
       "</div>"
      ],
      "text/plain": [
       "             formation_energy_per_atom pretty_formula\n",
       "material_id                                          \n",
       "mp-861867                    -1.518260           AcI3\n",
       "mp-30930                     -0.672347           AlI3\n",
       "mp-23218                     -0.199379           AsI3\n",
       "mp-23189                     -0.063909            BI3\n",
       "mp-1008490                    0.115729           BiI3"
      ]
     },
     "execution_count": 63,
     "metadata": {},
     "output_type": "execute_result"
    }
   ],
   "source": [
    "df= df[[\"formation_energy_per_atom\",\"pretty_formula\"]]\n",
    "df.head()"
   ]
  },
  {
   "cell_type": "markdown",
   "metadata": {},
   "source": [
    "#### 对列进行重新命名，让后面流程显得更加直观"
   ]
  },
  {
   "cell_type": "code",
   "execution_count": 64,
   "metadata": {},
   "outputs": [
    {
     "data": {
      "text/html": [
       "<div>\n",
       "<style scoped>\n",
       "    .dataframe tbody tr th:only-of-type {\n",
       "        vertical-align: middle;\n",
       "    }\n",
       "\n",
       "    .dataframe tbody tr th {\n",
       "        vertical-align: top;\n",
       "    }\n",
       "\n",
       "    .dataframe thead th {\n",
       "        text-align: right;\n",
       "    }\n",
       "</style>\n",
       "<table border=\"1\" class=\"dataframe\">\n",
       "  <thead>\n",
       "    <tr style=\"text-align: right;\">\n",
       "      <th></th>\n",
       "      <th>formation_energy</th>\n",
       "      <th>composition</th>\n",
       "    </tr>\n",
       "    <tr>\n",
       "      <th>material_id</th>\n",
       "      <th></th>\n",
       "      <th></th>\n",
       "    </tr>\n",
       "  </thead>\n",
       "  <tbody>\n",
       "    <tr>\n",
       "      <th>mp-861867</th>\n",
       "      <td>-1.518260</td>\n",
       "      <td>AcI3</td>\n",
       "    </tr>\n",
       "    <tr>\n",
       "      <th>mp-30930</th>\n",
       "      <td>-0.672347</td>\n",
       "      <td>AlI3</td>\n",
       "    </tr>\n",
       "    <tr>\n",
       "      <th>mp-23218</th>\n",
       "      <td>-0.199379</td>\n",
       "      <td>AsI3</td>\n",
       "    </tr>\n",
       "    <tr>\n",
       "      <th>mp-23189</th>\n",
       "      <td>-0.063909</td>\n",
       "      <td>BI3</td>\n",
       "    </tr>\n",
       "    <tr>\n",
       "      <th>mp-1008490</th>\n",
       "      <td>0.115729</td>\n",
       "      <td>BiI3</td>\n",
       "    </tr>\n",
       "  </tbody>\n",
       "</table>\n",
       "</div>"
      ],
      "text/plain": [
       "             formation_energy composition\n",
       "material_id                              \n",
       "mp-861867           -1.518260        AcI3\n",
       "mp-30930            -0.672347        AlI3\n",
       "mp-23218            -0.199379        AsI3\n",
       "mp-23189            -0.063909         BI3\n",
       "mp-1008490           0.115729        BiI3"
      ]
     },
     "execution_count": 64,
     "metadata": {},
     "output_type": "execute_result"
    }
   ],
   "source": [
    "df = df.rename(columns={'pretty_formula':'composition','formation_energy_per_atom':'formation_energy'})\n",
    "df.head()"
   ]
  },
  {
   "cell_type": "markdown",
   "metadata": {},
   "source": [
    "## 2. 生成训练集(数据预处理）\n",
    "\n",
    "#### 记下来我们仅仅保留每个化合物形成能最低的entry，数据库中提取的化合物的形成能可能不唯一，可能存在多个enrty"
   ]
  },
  {
   "cell_type": "markdown",
   "metadata": {},
   "source": [
    "#### matminer可以通过化学组分来得到输入数据进行特征化处理\n",
    "\n",
    "#### 第一步需要将表示化学组分的composition列转换成pymatgen Composition object"
   ]
  },
  {
   "cell_type": "code",
   "execution_count": 65,
   "metadata": {},
   "outputs": [
    {
     "data": {
      "application/vnd.jupyter.widget-view+json": {
       "model_id": "66585601eb6549eb9590ace6a0444efc",
       "version_major": 2,
       "version_minor": 0
      },
      "text/plain": [
       "HBox(children=(IntProgress(value=0, description='StrToComposition', max=520, style=ProgressStyle(description_w…"
      ]
     },
     "metadata": {},
     "output_type": "display_data"
    },
    {
     "name": "stdout",
     "output_type": "stream",
     "text": [
      "\n"
     ]
    },
    {
     "data": {
      "text/html": [
       "<div>\n",
       "<style scoped>\n",
       "    .dataframe tbody tr th:only-of-type {\n",
       "        vertical-align: middle;\n",
       "    }\n",
       "\n",
       "    .dataframe tbody tr th {\n",
       "        vertical-align: top;\n",
       "    }\n",
       "\n",
       "    .dataframe thead th {\n",
       "        text-align: right;\n",
       "    }\n",
       "</style>\n",
       "<table border=\"1\" class=\"dataframe\">\n",
       "  <thead>\n",
       "    <tr style=\"text-align: right;\">\n",
       "      <th></th>\n",
       "      <th>formation_energy</th>\n",
       "      <th>composition</th>\n",
       "      <th>composition_obj</th>\n",
       "    </tr>\n",
       "    <tr>\n",
       "      <th>material_id</th>\n",
       "      <th></th>\n",
       "      <th></th>\n",
       "      <th></th>\n",
       "    </tr>\n",
       "  </thead>\n",
       "  <tbody>\n",
       "    <tr>\n",
       "      <th>mp-861867</th>\n",
       "      <td>-1.518260</td>\n",
       "      <td>AcI3</td>\n",
       "      <td>(Ac, I)</td>\n",
       "    </tr>\n",
       "    <tr>\n",
       "      <th>mp-30930</th>\n",
       "      <td>-0.672347</td>\n",
       "      <td>AlI3</td>\n",
       "      <td>(Al, I)</td>\n",
       "    </tr>\n",
       "    <tr>\n",
       "      <th>mp-23218</th>\n",
       "      <td>-0.199379</td>\n",
       "      <td>AsI3</td>\n",
       "      <td>(As, I)</td>\n",
       "    </tr>\n",
       "    <tr>\n",
       "      <th>mp-23189</th>\n",
       "      <td>-0.063909</td>\n",
       "      <td>BI3</td>\n",
       "      <td>(B, I)</td>\n",
       "    </tr>\n",
       "    <tr>\n",
       "      <th>mp-1008490</th>\n",
       "      <td>0.115729</td>\n",
       "      <td>BiI3</td>\n",
       "      <td>(Bi, I)</td>\n",
       "    </tr>\n",
       "  </tbody>\n",
       "</table>\n",
       "</div>"
      ],
      "text/plain": [
       "             formation_energy composition composition_obj\n",
       "material_id                                              \n",
       "mp-861867           -1.518260        AcI3         (Ac, I)\n",
       "mp-30930            -0.672347        AlI3         (Al, I)\n",
       "mp-23218            -0.199379        AsI3         (As, I)\n",
       "mp-23189            -0.063909         BI3          (B, I)\n",
       "mp-1008490           0.115729        BiI3         (Bi, I)"
      ]
     },
     "execution_count": 65,
     "metadata": {},
     "output_type": "execute_result"
    }
   ],
   "source": [
    "from matminer.featurizers.conversions import StrToComposition\n",
    "df = StrToComposition(target_col_id='composition_obj').featurize_dataframe(df, 'composition')\n",
    "df.head()"
   ]
  },
  {
   "cell_type": "markdown",
   "metadata": {},
   "source": [
    "#### 移除不存在形成能的entry"
   ]
  },
  {
   "cell_type": "code",
   "execution_count": 66,
   "metadata": {},
   "outputs": [
    {
     "name": "stdout",
     "output_type": "stream",
     "text": [
      "Removed 0/520 entries\n"
     ]
    }
   ],
   "source": [
    "#for k in ['formation_energy_per_atom']: \n",
    "#    df[k] = pd.to_numeric(df[k])\n",
    "original_count = len(df)\n",
    "df = df[~ df['formation_energy'].isnull()]\n",
    "print('Removed %d/%d entries'%(original_count - len(df), original_count))  #会发现没有减少entry"
   ]
  },
  {
   "cell_type": "markdown",
   "metadata": {},
   "source": [
    "#### 仅仅保留每个化合物的基态entry，使得最终每个化合物仅仅有一个entry"
   ]
  },
  {
   "cell_type": "code",
   "execution_count": 67,
   "metadata": {},
   "outputs": [
    {
     "name": "stdout",
     "output_type": "stream",
     "text": [
      "Removed 250/520 entries\n",
      "Wall time: 56 ms\n"
     ]
    }
   ],
   "source": [
    "%%time\n",
    "original_count = len(df)\n",
    "df['composition'] = df['composition_obj'].apply(lambda x: x.reduced_formula)\n",
    "df.sort_values('formation_energy', ascending=True, inplace=True)\n",
    "df.drop_duplicates('composition', keep='first', inplace=True)\n",
    "print('Removed %d/%d entries'%(original_count - len(df), original_count))"
   ]
  },
  {
   "cell_type": "markdown",
   "metadata": {},
   "source": [
    "#### 移除异常值"
   ]
  },
  {
   "cell_type": "code",
   "execution_count": 68,
   "metadata": {},
   "outputs": [
    {
     "name": "stdout",
     "output_type": "stream",
     "text": [
      "Removed 0/270 entries\n"
     ]
    }
   ],
   "source": [
    "import numpy as np\n",
    "original_count = len(df)\n",
    "df = df[np.logical_and(df['formation_energy'] >= -20, df['formation_energy'] <= 5)]\n",
    "print('Removed %d/%d entries'%(original_count - len(df), original_count))"
   ]
  },
  {
   "cell_type": "markdown",
   "metadata": {},
   "source": [
    "## 3. 搭建随机森林模型"
   ]
  },
  {
   "cell_type": "markdown",
   "metadata": {},
   "source": [
    "#### 3.1 计算表示（representation）"
   ]
  },
  {
   "cell_type": "markdown",
   "metadata": {},
   "source": [
    "#### 搭建模型的第一步是将原始(raw)的材料数据转换成数值属性(attributes)列表,才能被模型使用"
   ]
  },
  {
   "cell_type": "code",
   "execution_count": 69,
   "metadata": {},
   "outputs": [],
   "source": [
    "from matminer.featurizers.base import MultipleFeaturizer\n",
    "from matminer.featurizers import composition as cf\n",
    "feature_calculators = MultipleFeaturizer([cf.Stoichiometry(), cf.ElementProperty.from_preset(\"magpie\"),\n",
    "                                          cf.ValenceOrbital(props=['avg']), cf.IonProperty(fast=True)])"
   ]
  },
  {
   "cell_type": "markdown",
   "metadata": {},
   "source": [
    "#### 计算特征(feature)"
   ]
  },
  {
   "cell_type": "code",
   "execution_count": 70,
   "metadata": {},
   "outputs": [
    {
     "data": {
      "application/vnd.jupyter.widget-view+json": {
       "model_id": "5fe0239227994ed894de6af0b4576970",
       "version_major": 2,
       "version_minor": 0
      },
      "text/plain": [
       "HBox(children=(IntProgress(value=0, description='MultipleFeaturizer', max=270, style=ProgressStyle(description…"
      ]
     },
     "metadata": {},
     "output_type": "display_data"
    },
    {
     "name": "stdout",
     "output_type": "stream",
     "text": [
      "\n",
      "Generated 145 features\n",
      "Training set size: 270x145\n"
     ]
    }
   ],
   "source": [
    "feature_labels = feature_calculators.feature_labels()\n",
    "df = feature_calculators.featurize_dataframe(df, col_id='composition_obj')\n",
    "print('Generated %d features'%len(feature_labels))\n",
    "print('Training set size:', 'x'.join([str(x) for x in df[feature_labels].shape]))"
   ]
  },
  {
   "cell_type": "markdown",
   "metadata": {},
   "source": [
    "#### 移除含有NaN和infinite的特征"
   ]
  },
  {
   "cell_type": "code",
   "execution_count": 71,
   "metadata": {},
   "outputs": [
    {
     "name": "stdout",
     "output_type": "stream",
     "text": [
      "Removed 0/270 entries\n"
     ]
    }
   ],
   "source": [
    "original_count = len(df)\n",
    "df = df[~ df[feature_labels].isnull().any(axis=1)]\n",
    "print('Removed %d/%d entries'%(original_count - len(df), original_count))"
   ]
  },
  {
   "cell_type": "markdown",
   "metadata": {},
   "source": [
    "#### 3.2 调整模型超参数"
   ]
  },
  {
   "cell_type": "code",
   "execution_count": 72,
   "metadata": {},
   "outputs": [],
   "source": [
    "from sklearn import metrics\n",
    "from sklearn.ensemble import RandomForestRegressor\n",
    "from sklearn.model_selection import cross_val_score, cross_val_predict, GridSearchCV, ShuffleSplit, KFold\n",
    "model = GridSearchCV(RandomForestRegressor(n_estimators=100,random_state=0 ),#决策树的个数为10\n",
    "                     param_grid=dict(max_features=range(8,15)),\n",
    "                     scoring='neg_mean_squared_error',cv=ShuffleSplit(n_splits=1, test_size=0.1))\n",
    "    #test_size=0.5表示用多少数据做为模型的训练集       \n",
    "    #用GridSearchCV进行自动调参，只要把参数输进去，就能给出最优化的结果和参数，该方法适用于小数据集合"
   ]
  },
  {
   "cell_type": "markdown",
   "metadata": {},
   "source": [
    "#### 进行训练"
   ]
  },
  {
   "cell_type": "code",
   "execution_count": 73,
   "metadata": {},
   "outputs": [
    {
     "data": {
      "text/plain": [
       "GridSearchCV(cv=ShuffleSplit(n_splits=1, random_state=None, test_size=0.1, train_size=None),\n",
       "       error_score='raise-deprecating',\n",
       "       estimator=RandomForestRegressor(bootstrap=True, criterion='mse', max_depth=None,\n",
       "           max_features='auto', max_leaf_nodes=None,\n",
       "           min_impurity_decrease=0.0, min_impurity_split=None,\n",
       "           min_samples_leaf=1, min_samples_split=2,\n",
       "           min_weight_fraction_leaf=0.0, n_estimators=100, n_jobs=None,\n",
       "           oob_score=False, random_state=0, verbose=0, warm_start=False),\n",
       "       fit_params=None, iid='warn', n_jobs=None,\n",
       "       param_grid={'max_features': range(8, 15)}, pre_dispatch='2*n_jobs',\n",
       "       refit=True, return_train_score='warn',\n",
       "       scoring='neg_mean_squared_error', verbose=0)"
      ]
     },
     "execution_count": 73,
     "metadata": {},
     "output_type": "execute_result"
    }
   ],
   "source": [
    "model.fit(df[feature_labels], df['formation_energy'])"
   ]
  },
  {
   "cell_type": "markdown",
   "metadata": {},
   "source": [
    "#### 得到调参结果"
   ]
  },
  {
   "cell_type": "code",
   "execution_count": 74,
   "metadata": {},
   "outputs": [
    {
     "data": {
      "text/plain": [
       "-0.7382302143965899"
      ]
     },
     "execution_count": 74,
     "metadata": {},
     "output_type": "execute_result"
    }
   ],
   "source": [
    "model.best_score_"
   ]
  },
  {
   "cell_type": "code",
   "execution_count": 75,
   "metadata": {},
   "outputs": [
    {
     "data": {
      "text/plain": [
       "Text(0, 0.5, 'RMSE (eV/atom)')"
      ]
     },
     "execution_count": 75,
     "metadata": {},
     "output_type": "execute_result"
    },
    {
     "data": {
      "image/png": "[encoded data removed]",
      "text/plain": [
       "<Figure size 432x288 with 1 Axes>"
      ]
     },
     "metadata": {
      "needs_background": "light"
     },
     "output_type": "display_data"
    }
   ],
   "source": [
    "from matplotlib import pyplot as plt\n",
    "import numpy as np\n",
    "fig, ax = plt.subplots()\n",
    "\n",
    "# Plot the score as a function of alpha\n",
    "ax.scatter(model.cv_results_['param_max_features'].data,\n",
    "          np.sqrt(-1 * model.cv_results_['mean_test_score']))\n",
    "ax.scatter([model.best_params_['max_features']], np.sqrt([-1*model.best_score_]), marker='o', color='r', s=40)\n",
    "ax.set_xlabel('Max. Features')\n",
    "ax.set_ylabel('RMSE (eV/atom)')"
   ]
  },
  {
   "cell_type": "markdown",
   "metadata": {},
   "source": [
    "#### 保存最佳模型"
   ]
  },
  {
   "cell_type": "code",
   "execution_count": 76,
   "metadata": {},
   "outputs": [],
   "source": [
    "model = model.best_estimator_"
   ]
  },
  {
   "cell_type": "markdown",
   "metadata": {},
   "source": [
    "## 3.3交叉验证"
   ]
  },
  {
   "cell_type": "markdown",
   "metadata": {},
   "source": [
    "#### 通过十折交叉验证来量化得出模型的表现"
   ]
  },
  {
   "cell_type": "code",
   "execution_count": 77,
   "metadata": {},
   "outputs": [],
   "source": [
    "cv_prediction = cross_val_predict(model, df[feature_labels], df['formation_energy'], cv=KFold(10, shuffle=True))"
   ]
  },
  {
   "cell_type": "markdown",
   "metadata": {},
   "source": [
    "#### 计算汇总数据"
   ]
  },
  {
   "cell_type": "code",
   "execution_count": 78,
   "metadata": {},
   "outputs": [
    {
     "name": "stdout",
     "output_type": "stream",
     "text": [
      "r2_score 0.8602991958415255\n",
      "mean_absolute_error 0.2793530952324749\n",
      "mean_squared_error 0.20255167769467616\n"
     ]
    }
   ],
   "source": [
    "for scorer in ['r2_score', 'mean_absolute_error', 'mean_squared_error']:\n",
    "    score = getattr(metrics,scorer)(df['formation_energy'], cv_prediction)\n",
    "    print(scorer, score)"
   ]
  },
  {
   "cell_type": "code",
   "execution_count": 79,
   "metadata": {},
   "outputs": [
    {
     "data": {
      "text/plain": [
       "RandomForestRegressor(bootstrap=True, criterion='mse', max_depth=None,\n",
       "           max_features=10, max_leaf_nodes=None, min_impurity_decrease=0.0,\n",
       "           min_impurity_split=None, min_samples_leaf=1,\n",
       "           min_samples_split=2, min_weight_fraction_leaf=0.0,\n",
       "           n_estimators=100, n_jobs=None, oob_score=False, random_state=0,\n",
       "           verbose=0, warm_start=False)"
      ]
     },
     "execution_count": 79,
     "metadata": {},
     "output_type": "execute_result"
    }
   ],
   "source": [
    "model"
   ]
  },
  {
   "cell_type": "code",
   "execution_count": 80,
   "metadata": {},
   "outputs": [
    {
     "data": {
      "image/png": "[encoded data removed]",
      "text/plain": [
       "<Figure size 216x216 with 1 Axes>"
      ]
     },
     "metadata": {
      "needs_background": "light"
     },
     "output_type": "display_data"
    }
   ],
   "source": [
    "from matplotlib.colors import LogNorm\n",
    "fig, ax = plt.subplots()\n",
    "\n",
    "ax.hist2d(pd.to_numeric(df['formation_energy']), cv_prediction, norm=LogNorm(), bins=64, cmap='Blues', alpha=0.9)\n",
    "\n",
    "ax.set_xlim(ax.get_ylim())\n",
    "ax.set_ylim(ax.get_xlim())\n",
    "\n",
    "mae = metrics.mean_absolute_error(df['formation_energy'], cv_prediction)\n",
    "r2 = metrics.r2_score(df['formation_energy'], cv_prediction)\n",
    "ax.text(0.5, 0.1, 'MAE: {:.2f} eV/atom\\n$R^2$:  {:.2f}'.format(mae, r2),\n",
    "        transform=ax.transAxes,\n",
    "       bbox={'facecolor': 'w', 'edgecolor': 'k'})\n",
    "\n",
    "ax.plot(ax.get_xlim(), ax.get_xlim(), 'k--')\n",
    "\n",
    "ax.set_xlabel('DFT $\\Delta H_f$ (eV/atom)')\n",
    "ax.set_ylabel('ML $\\Delta H_f$ (eV/atom)')\n",
    "\n",
    "fig.set_size_inches(3, 3)\n",
    "fig.tight_layout()\n",
    "fig.savefig('oqmd_cv.png', dpi=320)"
   ]
  },
  {
   "cell_type": "markdown",
   "metadata": {},
   "source": [
    "#### 特征重要程度比较"
   ]
  },
  {
   "cell_type": "code",
   "execution_count": 81,
   "metadata": {},
   "outputs": [
    {
     "data": {
      "text/plain": [
       "array([0.00000000e+00, 0.00000000e+00, 0.00000000e+00, 0.00000000e+00,\n",
       "       0.00000000e+00, 0.00000000e+00, 3.31056400e-03, 3.02336864e-03,\n",
       "       1.16599890e-02, 5.03807141e-03, 1.23864057e-02, 2.29843056e-03,\n",
       "       1.15830748e-02, 2.25840426e-03, 5.98021599e-03, 1.56280129e-02,\n",
       "       8.74387011e-03, 3.77881606e-03, 7.13014727e-03, 3.12304137e-03,\n",
       "       6.12668267e-03, 6.57027753e-03, 7.14112884e-03, 7.33737751e-04,\n",
       "       1.51302047e-02, 8.71837919e-03, 6.99276182e-03, 6.80034922e-03,\n",
       "       1.26919345e-02, 1.65478061e-02, 8.63086739e-03, 9.07637723e-04,\n",
       "       6.07021183e-03, 1.21888489e-02, 8.01575241e-03, 1.03021174e-03,\n",
       "       1.00396692e-03, 1.85586563e-03, 4.67997995e-03, 1.70237108e-03,\n",
       "       4.51535867e-03, 5.21944648e-03, 3.36603644e-03, 1.17074235e-02,\n",
       "       3.50621697e-02, 5.55448487e-03, 5.16842228e-02, 2.63631095e-02,\n",
       "       1.74377838e-02, 1.92042219e-02, 4.91428794e-02, 3.47781181e-02,\n",
       "       7.04597394e-02, 1.69448692e-02, 1.94416555e-03, 0.00000000e+00,\n",
       "       2.34140109e-04, 1.03409950e-03, 5.69727060e-04, 0.00000000e+00,\n",
       "       1.12479721e-03, 2.77847143e-04, 9.41775368e-04, 1.32982617e-03,\n",
       "       1.01593601e-03, 1.24802553e-03, 1.53601559e-03, 2.09144612e-02,\n",
       "       2.95966503e-03, 1.51562335e-02, 5.16973832e-03, 6.41841818e-03,\n",
       "       0.00000000e+00, 5.38585267e-04, 1.21769936e-03, 3.07663975e-04,\n",
       "       7.74256560e-04, 0.00000000e+00, 8.35704569e-03, 1.76986929e-03,\n",
       "       1.16701525e-03, 9.88858496e-03, 2.24157638e-03, 8.29799607e-03,\n",
       "       0.00000000e+00, 1.68954670e-03, 2.70349764e-03, 9.94803477e-04,\n",
       "       3.22170622e-04, 0.00000000e+00, 9.93070624e-05, 4.35417218e-03,\n",
       "       8.53111443e-04, 2.77860625e-03, 2.26212481e-03, 8.97011734e-05,\n",
       "       0.00000000e+00, 8.19933141e-04, 6.72767303e-04, 1.38474380e-03,\n",
       "       6.85925694e-04, 0.00000000e+00, 0.00000000e+00, 1.18071230e-03,\n",
       "       8.77235537e-04, 1.42402066e-03, 9.17548501e-04, 0.00000000e+00,\n",
       "       8.36062277e-04, 5.80593875e-03, 7.43037785e-03, 6.76494701e-03,\n",
       "       8.27708418e-03, 2.55879827e-04, 3.67231176e-03, 3.65745789e-03,\n",
       "       6.17099855e-03, 4.14690348e-03, 5.42151294e-03, 2.20002834e-03,\n",
       "       7.01594120e-04, 9.34019300e-03, 8.45827184e-03, 8.25417471e-03,\n",
       "       9.11828673e-03, 1.25803783e-02, 0.00000000e+00, 2.05244219e-04,\n",
       "       1.02005388e-03, 3.74618153e-04, 2.72766340e-04, 0.00000000e+00,\n",
       "       2.15392917e-03, 2.65754557e-03, 3.42430722e-03, 2.89318862e-03,\n",
       "       5.49513483e-03, 1.49898559e-03, 2.79349782e-03, 1.88027718e-03,\n",
       "       1.65361727e-02, 5.75978463e-04, 2.01963441e-03, 8.07874506e-02,\n",
       "       7.08524693e-02])"
      ]
     },
     "execution_count": 81,
     "metadata": {},
     "output_type": "execute_result"
    }
   ],
   "source": [
    "feature_importance = model.feature_importances_\n",
    "feature_importance"
   ]
  }
 ],
 "metadata": {
  "kernelspec": {
   "display_name": "Python 3",
   "language": "python",
   "name": "python3"
  },
  "language_info": {
   "codemirror_mode": {
    "name": "ipython",
    "version": 3
   },
   "file_extension": ".py",
   "mimetype": "text/x-python",
   "name": "python",
   "nbconvert_exporter": "python",
   "pygments_lexer": "ipython3",
   "version": "3.6.7"
  }
 },
 "nbformat": 4,
 "nbformat_minor": 2
}
